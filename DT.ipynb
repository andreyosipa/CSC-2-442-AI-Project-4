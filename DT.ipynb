{
 "cells": [
  {
   "cell_type": "code",
   "execution_count": 110,
   "metadata": {
    "collapsed": true
   },
   "outputs": [],
   "source": [
    "import csv\n",
    "import random\n",
    "import numpy as np\n",
    "import math"
   ]
  },
  {
   "cell_type": "code",
   "execution_count": 20,
   "metadata": {
    "collapsed": true
   },
   "outputs": [],
   "source": [
    "def pluralityValue(data, col=-1):\n",
    "    counters = {}\n",
    "    for idx in range(len(data)):\n",
    "        if data[idx][col] in counters.keys():\n",
    "            counters[data[idx][col]] += 1\n",
    "        else:\n",
    "            counters[data[idx][col]] = 1\n",
    "    max_count = 0\n",
    "    for val in counters.keys():\n",
    "        if counters[val] > max_count:\n",
    "            max_val = val\n",
    "            max_count = counters[val]\n",
    "    return max_val"
   ]
  },
  {
   "cell_type": "code",
   "execution_count": 23,
   "metadata": {
    "collapsed": true
   },
   "outputs": [],
   "source": [
    "def read_datafile(name, delimiter=','):\n",
    "    with open(name, 'rb') as csvfile:\n",
    "        reader = csv.reader(csvfile, delimiter=delimiter)\n",
    "        data = []\n",
    "        for row in reader:\n",
    "            data.append(row)\n",
    "    return data"
   ]
  },
  {
   "cell_type": "code",
   "execution_count": 223,
   "metadata": {
    "collapsed": false
   },
   "outputs": [],
   "source": [
    "class Variable:\n",
    "    def __init__(self, name, domain, idx):\n",
    "        self.name = name\n",
    "        self.domain = domain\n",
    "        self.idx = idx\n",
    "        \n",
    "class Problem:\n",
    "    def __init__(self):\n",
    "        self.variables = []\n",
    "    \n",
    "    def add_variable(self, variable):\n",
    "        self.variables.append(variable)\n",
    "        \n",
    "class DecisionTree:\n",
    "    def __init__(self, variable=None, value=None):\n",
    "        self.value = value\n",
    "        self.variable = variable\n",
    "        self.children = {}\n",
    "        \n",
    "    def dump(self, indent=0):\n",
    "        if self.value != None:\n",
    "            print ' '*indent + self.value\n",
    "        else:\n",
    "            print ' '*indent + self.variable.name\n",
    "            for val in self.variable.domain:\n",
    "                print ' '*indent + val\n",
    "                self.children[val].dump(indent=indent+5)\n",
    "    \n",
    "    def classify(self, data):\n",
    "        output = []\n",
    "        for d in data:\n",
    "            output.append(self.classifyOne(d))\n",
    "        return output\n",
    "            \n",
    "    def classifyOne(self, data):\n",
    "        if self.value != None:\n",
    "            return self.value\n",
    "        else:\n",
    "            return self.children[data[self.variable.idx]].classifyOne(data)\n",
    "            \n",
    "\n",
    "def listWithout(lst, element):\n",
    "    tmp = list(lst)\n",
    "    tmp.remove(element)\n",
    "    if tmp != None:\n",
    "        return tmp\n",
    "    return []\n",
    "        \n",
    "def learnTree(data, variables, parent_data):\n",
    "    if len(data) == 0:\n",
    "        return DecisionTree(value=pluralityValue(parent_data))\n",
    "    if len(set([x[-1] for x in data])) == 1:\n",
    "        return DecisionTree(value=data[0][-1])\n",
    "    if len(variables) == 0:\n",
    "        return DecisionTree(value=pluralityValue(data))\n",
    "        \n",
    "    #importance sampling\n",
    "    feature = mostImportantFeature(data, variables)\n",
    "        \n",
    "    tree = DecisionTree(variable=feature)\n",
    "    for val in feature.domain:\n",
    "        #filter data\n",
    "        exs = [x for x in data if x[feature.idx] == val]\n",
    "        #create subtree\n",
    "        subtree = learnTree(exs, listWithout(variables, feature), data)\n",
    "        #add branch\n",
    "        tree.children[val] = subtree\n",
    "    return tree\n",
    "\n",
    "def mostImportantFeature(data, variables):\n",
    "    #method one vs all for each outcome\n",
    "    splits_gain = {}\n",
    "    outcomes = set([x[-1] for x in data])\n",
    "    for var in variables:\n",
    "        for out in outcomes:\n",
    "            p,n = pnSamples(data, -1, out)\n",
    "            remainder = 0\n",
    "            for val in var.domain:\n",
    "                pv,nv = pnSamples([x for x in data if x[var.idx] == val], -1, out)\n",
    "                if pv+nv > 0:\n",
    "                    remainder += float(pv+nv)/(p+n) * B(float(pv)/(pv+nv))\n",
    "            splits_gain[(var,out)] = B(float(p)/(p+n)) - remainder\n",
    "    \n",
    "    print \"gain for \", len(variables)\n",
    "    for k in splits_gain.keys():\n",
    "        print k[0].name, k[1], splits_gain[k]\n",
    "    \n",
    "    maxkeys = []\n",
    "    for key in splits_gain.keys():\n",
    "        if splits_gain[key] == max(splits_gain.values()):\n",
    "            maxkeys.append(key[0])\n",
    "    return maxkeys[random.randint(0, len(maxkeys) - 1)]\n",
    "            \n",
    "def B(x):\n",
    "    if x == 1 or x == 0:\n",
    "        return 0\n",
    "    return -(x * math.log(x,2) + (1-x) * math.log(1-x,2))\n",
    "\n",
    "def pnSamples(data, idx, pos_val):\n",
    "    p = len([x for x in data if x[idx] == pos_val])\n",
    "    n = len(data) - p\n",
    "    return p,n"
   ]
  },
  {
   "cell_type": "code",
   "execution_count": 174,
   "metadata": {
    "collapsed": false
   },
   "outputs": [],
   "source": [
    "data = read_datafile('WillWait-data.txt')\n",
    "alt = Variable(\"Alternate\", list(set([x[0] for x in data])), 0)\n",
    "bar = Variable(\"Bar\", list(set([x[1] for x in data])), 1)\n",
    "fri = Variable(\"Fri/Sat\", list(set([x[2] for x in data])), 2)\n",
    "hun = Variable(\"Hungry\", list(set([x[3] for x in data])), 3)\n",
    "pat = Variable(\"Patrons\", list(set([x[4] for x in data])), 4)\n",
    "pri = Variable(\"Price\", list(set([x[5] for x in data])), 5)\n",
    "rai = Variable(\"Raining\", list(set([x[6] for x in data])), 6)\n",
    "res = Variable(\"Reservation\", list(set([x[7] for x in data])), 7)\n",
    "typ = Variable(\"Type\", list(set([x[8] for x in data])), 8)\n",
    "wai = Variable(\"WaitEstimate\", list(set([x[9] for x in data])), 9)\n",
    "T = learnTree(data, [alt, bar, fri, hun, pat, pri, rai, res, typ, wai], [])"
   ]
  },
  {
   "cell_type": "code",
   "execution_count": 175,
   "metadata": {
    "collapsed": false
   },
   "outputs": [
    {
     "name": "stdout",
     "output_type": "stream",
     "text": [
      "Patrons\n",
      "None\n",
      "     No\n",
      "Full\n",
      "     Price\n",
      "     $$\n",
      "          No\n",
      "     $\n",
      "          WaitEstimate\n",
      "          10-30\n",
      "               Yes\n",
      "          30-60\n",
      "               Fri/Sat\n",
      "               Yes\n",
      "                    Yes\n",
      "               No\n",
      "                    No\n",
      "          0-10\n",
      "               Yes\n",
      "          >60\n",
      "               No\n",
      "     $$$\n",
      "          No\n",
      "Some\n",
      "     Yes\n"
     ]
    }
   ],
   "source": [
    "T.dump()"
   ]
  },
  {
   "cell_type": "code",
   "execution_count": 224,
   "metadata": {
    "collapsed": false
   },
   "outputs": [
    {
     "name": "stdout",
     "output_type": "stream",
     "text": [
      "gain for  4\n",
      "petal width Iris-versicolor 0.774660826718\n",
      "sepal length Iris-setosa 0.466218789101\n",
      "sepal length Iris-versicolor 0.218514875961\n",
      "petal width Iris-setosa 0.979868756651\n",
      "petal length Iris-virginica 0.392230842538\n",
      "sepal width Iris-versicolor 0.228171036437\n",
      "petal length Iris-setosa 0.979868756651\n",
      "sepal length Iris-virginica 0.186455127334\n",
      "petal width Iris-virginica 0.444814491716\n",
      "sepal width Iris-virginica 0.0132433112815\n",
      "petal length Iris-versicolor 0.722077177541\n",
      "sepal width Iris-setosa 0.302884499615\n",
      "gain for  3\n",
      "petal width Iris-versicolor 0.422874251893\n",
      "sepal length Iris-versicolor 0.0630149341896\n",
      "sepal width Iris-versicolor 0.0512600575436\n",
      "sepal length Iris-virginica 0.0630149341896\n",
      "petal width Iris-virginica 0.422874251893\n",
      "sepal width Iris-virginica 0.0512600575436\n",
      "gain for  2\n",
      "sepal length Iris-virginica 0.164557417969\n",
      "sepal width Iris-virginica 0.143373019265\n",
      "sepal width Iris-versicolor 0.143373019265\n",
      "sepal length Iris-versicolor 0.164557417969\n",
      "gain for  1\n",
      "sepal width Iris-virginica 0.169700168211\n",
      "sepal width Iris-versicolor 0.169700168211\n",
      "accuracy: 0.8\n"
     ]
    }
   ],
   "source": [
    "data = read_datafile('iris.data.discrete.txt')\n",
    "sl = Variable(\"sepal length\", list(set([x[0] for x in data])), 0)\n",
    "sw = Variable(\"sepal width\", list(set([x[1] for x in data])), 1)\n",
    "pl = Variable(\"petal length\", list(set([x[2] for x in data])), 2)\n",
    "pw = Variable(\"petal width\", list(set([x[3] for x in data])), 3)\n",
    "\n",
    "train = data[:120]\n",
    "test = data[120:]\n",
    "\n",
    "T = learnTree(train, [sl, sw, pl, pw], [])\n",
    "res = T.classify(test)\n",
    "correct = 0.0\n",
    "for idx in range(len(test)):\n",
    "    if res[idx] == test[idx][-1]:9\n",
    "        correct += 1\n",
    "print \"accuracy:\", correct/len(test)"
   ]
  },
  {
   "cell_type": "code",
   "execution_count": 225,
   "metadata": {
    "collapsed": false
   },
   "outputs": [
    {
     "name": "stdout",
     "output_type": "stream",
     "text": [
      "petal length\n",
      "ML\n",
      "     petal width\n",
      "     ML\n",
      "          sepal length\n",
      "          ML\n",
      "               Iris-versicolor\n",
      "          S\n",
      "               Iris-virginica\n",
      "          L\n",
      "               Iris-versicolor\n",
      "          MS\n",
      "               sepal width\n",
      "               ML\n",
      "                    Iris-versicolor\n",
      "               S\n",
      "                    Iris-versicolor\n",
      "               L\n",
      "                    Iris-versicolor\n",
      "               MS\n",
      "                    Iris-versicolor\n",
      "     S\n",
      "          Iris-versicolor\n",
      "     L\n",
      "          Iris-virginica\n",
      "     MS\n",
      "          Iris-versicolor\n",
      "S\n",
      "     Iris-setosa\n",
      "L\n",
      "     Iris-virginica\n",
      "MS\n",
      "     Iris-versicolor\n"
     ]
    }
   ],
   "source": [
    "T.dump()"
   ]
  },
  {
   "cell_type": "code",
   "execution_count": null,
   "metadata": {
    "collapsed": true
   },
   "outputs": [],
   "source": []
  }
 ],
 "metadata": {
  "kernelspec": {
   "display_name": "Python 2",
   "language": "python",
   "name": "python2"
  },
  "language_info": {
   "codemirror_mode": {
    "name": "ipython",
    "version": 2
   },
   "file_extension": ".py",
   "mimetype": "text/x-python",
   "name": "python",
   "nbconvert_exporter": "python",
   "pygments_lexer": "ipython2",
   "version": "2.7.10"
  }
 },
 "nbformat": 4,
 "nbformat_minor": 0
}
