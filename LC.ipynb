{
 "cells": [
  {
   "cell_type": "code",
   "execution_count": 146,
   "metadata": {
    "collapsed": true
   },
   "outputs": [],
   "source": [
    "import numpy as np\n",
    "import csv"
   ]
  },
  {
   "cell_type": "code",
   "execution_count": 50,
   "metadata": {
    "collapsed": true
   },
   "outputs": [],
   "source": [
    "import matplotlib.pyplot as plt"
   ]
  },
  {
   "cell_type": "code",
   "execution_count": 51,
   "metadata": {
    "collapsed": true
   },
   "outputs": [],
   "source": [
    "%matplotlib inline"
   ]
  },
  {
   "cell_type": "code",
   "execution_count": 248,
   "metadata": {
    "collapsed": false
   },
   "outputs": [],
   "source": [
    "class LinearClassifier:\n",
    "    def __init__(self, lrate=1.0):\n",
    "        self.w = 0\n",
    "        self.b = 0\n",
    "        self.lrate = lrate\n",
    "    \n",
    "    def threshold(self, x):\n",
    "        if x >= 0:\n",
    "            return 1\n",
    "        return 0\n",
    "    \n",
    "    def predict(self,X):\n",
    "        return np.apply_along_axis(self.threshold,0,np.dot(np.mat(self.w), X.T) + self.b)\n",
    "        \n",
    "    def loss(self, X, y):\n",
    "        return np.sum(np.abs(self.predict(X) - y))/len(X) + np.dot(self.w, self.w.T) + self.b**2\n",
    "    \n",
    "    def fit(self,X,y):\n",
    "        n_train = len(X)\n",
    "        self.w = np.zeros(len(X[0]))\n",
    "        self.b = 0\n",
    "        time = 1\n",
    "        finish = False\n",
    "        idx = 0\n",
    "        accuracy = []\n",
    "        accuracy.append(1 - np.sum(np.abs(self.predict(X) - y))/len(X))\n",
    "        loss_prev = self.loss(X,y)\n",
    "        while not finish:\n",
    "            rate = 10.0 * self.lrate/ 10**(time//100 + 1)\n",
    "            condition = y[idx] - self.threshold(np.dot(self.w,X[idx]) + self.b)\n",
    "            self.w = self.w + rate*condition*X[idx]\n",
    "            self.b = self.b + rate*condition   \n",
    "            time += 1\n",
    "            idx = (idx + 1) % n_train\n",
    "            if condition != 0:\n",
    "                accuracy.append(1 - np.sum(np.abs(self.predict(X) - y))/len(X))\n",
    "            \n",
    "            if condition != 0 and time > 1000:\n",
    "                finish = abs(loss_prev - self.loss(X,y)) < 1e-3*self.loss(X,y)\n",
    "                loss_prev = self.loss(X,y)\n",
    "            \n",
    "            if time > 10000:\n",
    "                break\n",
    "            \n",
    "            #if len(accuracy) > 10:\n",
    "            #    finish = np.sum(np.abs(np.array(accuracy[-10:]) - np.array(accuracy[-11:-1]))) < 1e-3\n",
    "        plt.plot(accuracy)\n",
    "    \n",
    "    \"\"\"def fit(self, X, y):\n",
    "        X_ext = np.ones((len(X), len(X[0]) + 1))\n",
    "        X_ext[:,:-1] = X\n",
    "        learning_rate = 0.1\n",
    "        self.w = np.zeros(len(X[0]) + 1)\n",
    "        converged = False\n",
    "        accuracy = []\n",
    "        time = 1\n",
    "        while not converged:\n",
    "            print time\n",
    "            for idx in range(len(X)):\n",
    "                learning_rate = 1.0/ 10**(time//100 + 1)\n",
    "                if y[idx] - self.threshold(np.dot(self.w,X_ext[idx])) != 0:\n",
    "                    self.w = np.add(self.w, (y[idx] - self.threshold(np.dot(self.w,X_ext[idx]))) * learning_rate * X_ext[idx])\n",
    "                    time += 1\n",
    "                    accuracy.append(1 - np.sum(np.abs(np.apply_along_axis(self.threshold,0,np.dot(np.mat(self.w), X_ext.T)) - y))/len(X))\n",
    "            \n",
    "            if len(accuracy) > 10:\n",
    "                converged = np.sum(np.abs(np.array(accuracy[-10:]) - np.array(accuracy[-11:-1]))) < 1e-3\n",
    "            #general bound on number of iterations\n",
    "            if time > 5000:\n",
    "                break\n",
    "                \n",
    "        #print accuracy\n",
    "        plt.plot(accuracy)\"\"\""
   ]
  },
  {
   "cell_type": "code",
   "execution_count": 321,
   "metadata": {
    "collapsed": true
   },
   "outputs": [],
   "source": [
    "class LogisticRegression:\n",
    "    def __init__(self, rate=1.0):\n",
    "        self.w = 0\n",
    "        self.b = 0\n",
    "        self.lrate = rate\n",
    "    \n",
    "    def h(self, x):\n",
    "        return 1.0/(1 + np.exp(-np.dot(self.w, x) - self.b))\n",
    "    \n",
    "    def threshold(self, x):\n",
    "        if x >= 0:\n",
    "            return 1\n",
    "        return 0\n",
    "    \n",
    "    def loss(self, X, y):\n",
    "        return np.sum(np.abs(self.predict(X) - y))/len(X) + np.dot(self.w, self.w.T) + self.b**2\n",
    "    \n",
    "    def predict(self,X):\n",
    "        return np.apply_along_axis(self.threshold,0,np.dot(np.mat(self.w), X.T) + self.b)\n",
    "    \n",
    "    def fit(self, X, y, n_iter=10000):\n",
    "        n_train = len(X)\n",
    "        self.w = np.zeros(len(X[0]))\n",
    "        self.b = 0\n",
    "        finish = False\n",
    "        accuracy = []\n",
    "        time = 1\n",
    "        idx = 0\n",
    "        loss_prev = self.loss(X,y)\n",
    "        accuracy.append(1 - np.sum(np.abs(self.predict(X) - y))/len(X))\n",
    "        while not finish:\n",
    "            rate = 2 * self.lrate/ 2**(time//100 + 1)\n",
    "            self.w = self.w + rate*(y[idx] - self.h(X[idx]))*self.h(X[idx])*(1 - self.h(X[idx]))*X[idx]\n",
    "            self.b = self.b + rate*(y[idx] - self.h(X[idx]))*self.h(X[idx])*(1 - self.h(X[idx]))  \n",
    "            time += 1\n",
    "            #idx = (idx + 1) % n_train\n",
    "            idx = random.randint(0, n_train-1)\n",
    "            accuracy.append(1 - np.sum(np.abs(self.predict(X) - y))/len(X))\n",
    "            \n",
    "            if time > n_iter:\n",
    "                break\n",
    "            \n",
    "                \n",
    "        #print accuracy\n",
    "        plt.plot(accuracy)"
   ]
  },
  {
   "cell_type": "code",
   "execution_count": 144,
   "metadata": {
    "collapsed": true
   },
   "outputs": [],
   "source": [
    "def read_datafile(name):\n",
    "    #Technical function to read data from files.\n",
    "    with open(name, 'rb') as csvfile:\n",
    "        reader = csv.reader(csvfile, delimiter=' ')\n",
    "        num = len(list(reader))\n",
    "    with open(name, 'rb') as csvfile:\n",
    "        reader = csv.reader(csvfile, delimiter=' ')\n",
    "        data = np.zeros((num,124))\n",
    "        idx = 0\n",
    "        for row in reader:\n",
    "            data[idx,0] = int(row[0])\n",
    "            data[idx, [int(x.split(\":\")[0]) for x in row[1:-1]]] = 1\n",
    "            idx += 1\n",
    "    return data"
   ]
  },
  {
   "cell_type": "code",
   "execution_count": 163,
   "metadata": {
    "collapsed": false
   },
   "outputs": [],
   "source": [
    "data = read_datafile('adult_dataset/a7a.train')"
   ]
  },
  {
   "cell_type": "code",
   "execution_count": 306,
   "metadata": {
    "collapsed": false
   },
   "outputs": [
    {
     "data": {
      "image/png": "[encoded data removed]",
      "text/plain": [
       "<matplotlib.figure.Figure at 0x104224190>"
      ]
     },
     "metadata": {},
     "output_type": "display_data"
    }
   ],
   "source": [
    "c = LinearClassifier()\n",
    "c.fit(data[:,1:], (data[:,0] + 1)/2)"
   ]
  },
  {
   "cell_type": "code",
   "execution_count": 307,
   "metadata": {
    "collapsed": true
   },
   "outputs": [],
   "source": [
    "import random"
   ]
  },
  {
   "cell_type": "code",
   "execution_count": 317,
   "metadata": {
    "collapsed": false
   },
   "outputs": [
    {
     "data": {
      "text/plain": [
       "1"
      ]
     },
     "execution_count": 317,
     "metadata": {},
     "output_type": "execute_result"
    }
   ],
   "source": [
    "random.randint(0,1)"
   ]
  },
  {
   "cell_type": "code",
   "execution_count": 287,
   "metadata": {
    "collapsed": false
   },
   "outputs": [
    {
     "data": {
      "image/png": "[encoded data removed]",
      "text/plain": [
       "<matplotlib.figure.Figure at 0x10472d910>"
      ]
     },
     "metadata": {},
     "output_type": "display_data"
    }
   ],
   "source": [
    "c = LinearClassifier()\n",
    "c.fit(a[:,:2], a[:,2])"
   ]
  },
  {
   "cell_type": "code",
   "execution_count": 336,
   "metadata": {
    "collapsed": false
   },
   "outputs": [
    {
     "data": {
      "text/plain": [
       "68.0"
      ]
     },
     "execution_count": 336,
     "metadata": {},
     "output_type": "execute_result"
    }
   ],
   "source": [
    "len(a) - sum(abs(c.predict(a[:,:2]) - a[:,2]))"
   ]
  },
  {
   "cell_type": "code",
   "execution_count": 245,
   "metadata": {
    "collapsed": false
   },
   "outputs": [
    {
     "data": {
      "text/plain": [
       "123"
      ]
     },
     "execution_count": 245,
     "metadata": {},
     "output_type": "execute_result"
    }
   ],
   "source": [
    "len(data[:,1:][0])"
   ]
  },
  {
   "cell_type": "code",
   "execution_count": 240,
   "metadata": {
    "collapsed": false
   },
   "outputs": [
    {
     "data": {
      "text/plain": [
       "1"
      ]
     },
     "execution_count": 240,
     "metadata": {},
     "output_type": "execute_result"
    }
   ],
   "source": [
    "len(c.w)"
   ]
  },
  {
   "cell_type": "code",
   "execution_count": 328,
   "metadata": {
    "collapsed": false
   },
   "outputs": [],
   "source": [
    "a = np.loadtxt('earthquake-noisy.data.txt', delimiter=',')"
   ]
  },
  {
   "cell_type": "code",
   "execution_count": 329,
   "metadata": {
    "collapsed": false
   },
   "outputs": [
    {
     "data": {
      "image/png": "[encoded data removed]",
      "text/plain": [
       "<matplotlib.figure.Figure at 0x10487cd50>"
      ]
     },
     "metadata": {},
     "output_type": "display_data"
    }
   ],
   "source": [
    "c = LinearClassifier()\n",
    "c.fit(a[:,:2], a[:,2])"
   ]
  },
  {
   "cell_type": "code",
   "execution_count": 324,
   "metadata": {
    "collapsed": false,
    "scrolled": false
   },
   "outputs": [
    {
     "data": {
      "image/png": "[encoded data removed]",
      "text/plain": [
       "<matplotlib.figure.Figure at 0x1047dfa90>"
      ]
     },
     "metadata": {},
     "output_type": "display_data"
    }
   ],
   "source": [
    "lr = LogisticRegression()\n",
    "lr.fit(a[:,:2], a[:,2], 1000)"
   ]
  },
  {
   "cell_type": "code",
   "execution_count": 322,
   "metadata": {
    "collapsed": false
   },
   "outputs": [
    {
     "data": {
      "image/png": "[encoded data removed]",
      "text/plain": [
       "<matplotlib.figure.Figure at 0x1015fbd10>"
      ]
     },
     "metadata": {},
     "output_type": "display_data"
    }
   ],
   "source": [
    "lr = LogisticRegression()\n",
    "lr.fit(data[:,1:], (data[:,0] + 1)/2, 200)"
   ]
  },
  {
   "cell_type": "code",
   "execution_count": 26,
   "metadata": {
    "collapsed": false
   },
   "outputs": [
    {
     "data": {
      "text/plain": [
       "array([ 0.,  0.,  0.,  0.,  0.,  0.,  0.,  0.,  0.,  0.,  0.,  0.,  0.,\n",
       "        0.,  0.,  0.,  0.,  0.,  0.,  0.,  0.,  0.,  0.,  0.,  0.,  0.,\n",
       "        0.,  0.,  0.,  1.,  1.,  1.,  1.,  1.,  1.,  1.,  1.,  1.,  1.,\n",
       "        1.,  1.,  1.,  1.,  1.,  1.,  1.,  1.,  1.,  1.,  1.,  1.,  1.,\n",
       "        1.,  1.,  1.,  1.,  1.,  1.,  1.,  1.,  1.,  1.,  1.,  1.])"
      ]
     },
     "execution_count": 26,
     "metadata": {},
     "output_type": "execute_result"
    }
   ],
   "source": [
    "a[:,2]"
   ]
  },
  {
   "cell_type": "code",
   "execution_count": 163,
   "metadata": {
    "collapsed": false
   },
   "outputs": [
    {
     "data": {
      "text/plain": [
       "array([-1.242,  1.527])"
      ]
     },
     "execution_count": 163,
     "metadata": {},
     "output_type": "execute_result"
    }
   ],
   "source": [
    "c.w"
   ]
  },
  {
   "cell_type": "code",
   "execution_count": 24,
   "metadata": {
    "collapsed": true
   },
   "outputs": [],
   "source": [
    "def f(x):\n",
    "    if x >= 0:\n",
    "        return 1\n",
    "    return 0"
   ]
  },
  {
   "cell_type": "code",
   "execution_count": 156,
   "metadata": {
    "collapsed": false
   },
   "outputs": [
    {
     "data": {
      "text/plain": [
       "0.0"
      ]
     },
     "execution_count": 156,
     "metadata": {},
     "output_type": "execute_result"
    }
   ],
   "source": [
    "a[2,2] - f(np.dot(c.w, a[2,:2]))"
   ]
  },
  {
   "cell_type": "code",
   "execution_count": 31,
   "metadata": {
    "collapsed": false
   },
   "outputs": [
    {
     "ename": "ValueError",
     "evalue": "all the input arrays must have same number of dimensions",
     "output_type": "error",
     "traceback": [
      "\u001b[0;31m---------------------------------------------------------------------------\u001b[0m",
      "\u001b[0;31mValueError\u001b[0m                                Traceback (most recent call last)",
      "\u001b[0;32m<ipython-input-31-7f5c6d60bf36>\u001b[0m in \u001b[0;36m<module>\u001b[0;34m()\u001b[0m\n\u001b[0;32m----> 1\u001b[0;31m \u001b[0mnp\u001b[0m\u001b[0;34m.\u001b[0m\u001b[0mappend\u001b[0m\u001b[0;34m(\u001b[0m\u001b[0ma\u001b[0m\u001b[0;34m[\u001b[0m\u001b[0;34m:\u001b[0m\u001b[0;34m,\u001b[0m\u001b[0;34m:\u001b[0m\u001b[0;36m2\u001b[0m\u001b[0;34m]\u001b[0m\u001b[0;34m,\u001b[0m \u001b[0mnp\u001b[0m\u001b[0;34m.\u001b[0m\u001b[0mones\u001b[0m\u001b[0;34m(\u001b[0m\u001b[0;36m64\u001b[0m\u001b[0;34m)\u001b[0m\u001b[0;34m,\u001b[0m \u001b[0maxis\u001b[0m\u001b[0;34m=\u001b[0m\u001b[0;36m0\u001b[0m\u001b[0;34m)\u001b[0m\u001b[0;34m\u001b[0m\u001b[0m\n\u001b[0m",
      "\u001b[0;32m/opt/local/Library/Frameworks/Python.framework/Versions/2.7/lib/python2.7/site-packages/numpy/lib/function_base.pyc\u001b[0m in \u001b[0;36mappend\u001b[0;34m(arr, values, axis)\u001b[0m\n\u001b[1;32m   3882\u001b[0m         \u001b[0mvalues\u001b[0m \u001b[0;34m=\u001b[0m \u001b[0mravel\u001b[0m\u001b[0;34m(\u001b[0m\u001b[0mvalues\u001b[0m\u001b[0;34m)\u001b[0m\u001b[0;34m\u001b[0m\u001b[0m\n\u001b[1;32m   3883\u001b[0m         \u001b[0maxis\u001b[0m \u001b[0;34m=\u001b[0m \u001b[0marr\u001b[0m\u001b[0;34m.\u001b[0m\u001b[0mndim\u001b[0m\u001b[0;34m-\u001b[0m\u001b[0;36m1\u001b[0m\u001b[0;34m\u001b[0m\u001b[0m\n\u001b[0;32m-> 3884\u001b[0;31m     \u001b[0;32mreturn\u001b[0m \u001b[0mconcatenate\u001b[0m\u001b[0;34m(\u001b[0m\u001b[0;34m(\u001b[0m\u001b[0marr\u001b[0m\u001b[0;34m,\u001b[0m \u001b[0mvalues\u001b[0m\u001b[0;34m)\u001b[0m\u001b[0;34m,\u001b[0m \u001b[0maxis\u001b[0m\u001b[0;34m=\u001b[0m\u001b[0maxis\u001b[0m\u001b[0;34m)\u001b[0m\u001b[0;34m\u001b[0m\u001b[0m\n\u001b[0m",
      "\u001b[0;31mValueError\u001b[0m: all the input arrays must have same number of dimensions"
     ]
    }
   ],
   "source": [
    "np.append(a[:,:2], np.ones(64), axis=0)"
   ]
  },
  {
   "cell_type": "code",
   "execution_count": 29,
   "metadata": {
    "collapsed": false
   },
   "outputs": [
    {
     "data": {
      "text/plain": [
       "array([ 1.,  1.,  1.,  1.,  1.,  1.,  1.,  1.,  1.,  1.,  1.,  1.,  1.,\n",
       "        1.,  1.,  1.,  1.,  1.,  1.,  1.,  1.,  1.,  1.,  1.,  1.,  1.,\n",
       "        1.,  1.,  1.,  1.,  1.,  1.,  1.,  1.,  1.,  1.,  1.,  1.,  1.,\n",
       "        1.,  1.,  1.,  1.,  1.,  1.,  1.,  1.,  1.,  1.,  1.,  1.,  1.,\n",
       "        1.,  1.,  1.,  1.,  1.,  1.,  1.,  1.,  1.,  1.,  1.,  1.])"
      ]
     },
     "execution_count": 29,
     "metadata": {},
     "output_type": "execute_result"
    }
   ],
   "source": [
    "np.ones(64)"
   ]
  },
  {
   "cell_type": "code",
   "execution_count": 36,
   "metadata": {
    "collapsed": false
   },
   "outputs": [],
   "source": [
    "t = np.ones((64,3))"
   ]
  },
  {
   "cell_type": "code",
   "execution_count": 38,
   "metadata": {
    "collapsed": true
   },
   "outputs": [],
   "source": [
    "t[:,:-1] = a[:,:2]"
   ]
  },
  {
   "cell_type": "code",
   "execution_count": 39,
   "metadata": {
    "collapsed": false
   },
   "outputs": [
    {
     "data": {
      "text/plain": [
       "array([[ 6.1,  4.9,  1. ],\n",
       "       [ 5.2,  3.4,  1. ],\n",
       "       [ 6.1,  4.4,  1. ],\n",
       "       [ 6.1,  4.6,  1. ],\n",
       "       [ 6.4,  5.8,  1. ],\n",
       "       [ 6.1,  4.6,  1. ],\n",
       "       [ 5.8,  4.3,  1. ],\n",
       "       [ 5.9,  4.3,  1. ],\n",
       "       [ 5.9,  4.7,  1. ],\n",
       "       [ 6.2,  4.6,  1. ],\n",
       "       [ 5.9,  4.7,  1. ],\n",
       "       [ 5.8,  4.6,  1. ],\n",
       "       [ 6.1,  4.6,  1. ],\n",
       "       [ 5.9,  4.4,  1. ],\n",
       "       [ 5.9,  5. ,  1. ],\n",
       "       [ 6. ,  4.4,  1. ],\n",
       "       [ 6. ,  4.2,  1. ],\n",
       "       [ 5.9,  4.3,  1. ],\n",
       "       [ 6.2,  4.7,  1. ],\n",
       "       [ 6. ,  4.3,  1. ],\n",
       "       [ 6.2,  4.4,  1. ],\n",
       "       [ 6.1,  4.2,  1. ],\n",
       "       [ 5.9,  3.8,  1. ],\n",
       "       [ 5.8,  3.4,  1. ],\n",
       "       [ 6. ,  4.8,  1. ],\n",
       "       [ 6.1,  4.5,  1. ],\n",
       "       [ 6.1,  4.5,  1. ],\n",
       "       [ 5.6,  3.8,  1. ],\n",
       "       [ 6.1,  4.5,  1. ],\n",
       "       [ 5.3,  4.4,  1. ],\n",
       "       [ 6.2,  6.6,  1. ],\n",
       "       [ 6.1,  6.2,  1. ],\n",
       "       [ 5. ,  5.9,  1. ],\n",
       "       [ 5.5,  5.7,  1. ],\n",
       "       [ 4.5,  4.8,  1. ],\n",
       "       [ 5.4,  4.7,  1. ],\n",
       "       [ 5.5,  5.6,  1. ],\n",
       "       [ 4.8,  4.1,  1. ],\n",
       "       [ 6.1,  6. ,  1. ],\n",
       "       [ 5.6,  5.1,  1. ],\n",
       "       [ 6.3,  6.6,  1. ],\n",
       "       [ 5.9,  6.1,  1. ],\n",
       "       [ 6.1,  6.6,  1. ],\n",
       "       [ 5.7,  5.9,  1. ],\n",
       "       [ 5.6,  5. ,  1. ],\n",
       "       [ 6.1,  6.9,  1. ],\n",
       "       [ 5.8,  5.6,  1. ],\n",
       "       [ 5.9,  5.8,  1. ],\n",
       "       [ 5.3,  5.4,  1. ],\n",
       "       [ 5.7,  5.6,  1. ],\n",
       "       [ 5.7,  6. ,  1. ],\n",
       "       [ 6.1,  5.6,  1. ],\n",
       "       [ 5.7,  5.3,  1. ],\n",
       "       [ 5.1,  4.9,  1. ],\n",
       "       [ 5.2,  5.3,  1. ],\n",
       "       [ 5.7,  5.8,  1. ],\n",
       "       [ 5.9,  5.7,  1. ],\n",
       "       [ 6.1,  6.8,  1. ],\n",
       "       [ 5.8,  5.6,  1. ],\n",
       "       [ 4.8,  4.5,  1. ],\n",
       "       [ 5.5,  5.6,  1. ],\n",
       "       [ 6.6,  6.9,  1. ],\n",
       "       [ 6.1,  5.9,  1. ],\n",
       "       [ 6. ,  6.7,  1. ]])"
      ]
     },
     "execution_count": 39,
     "metadata": {},
     "output_type": "execute_result"
    }
   ],
   "source": [
    "t"
   ]
  },
  {
   "cell_type": "code",
   "execution_count": 55,
   "metadata": {
    "collapsed": false
   },
   "outputs": [
    {
     "data": {
      "text/plain": [
       "array([[ 6.1,  4.9],\n",
       "       [ 5.2,  3.4],\n",
       "       [ 6.1,  4.4],\n",
       "       [ 6.1,  4.6],\n",
       "       [ 6.4,  5.8],\n",
       "       [ 6.1,  4.6],\n",
       "       [ 5.8,  4.3],\n",
       "       [ 5.9,  4.3],\n",
       "       [ 5.9,  4.7],\n",
       "       [ 6.2,  4.6],\n",
       "       [ 5.9,  4.7],\n",
       "       [ 5.8,  4.6],\n",
       "       [ 6.1,  4.6],\n",
       "       [ 5.9,  4.4],\n",
       "       [ 5.9,  5. ],\n",
       "       [ 6. ,  4.4],\n",
       "       [ 6. ,  4.2],\n",
       "       [ 5.9,  4.3],\n",
       "       [ 6.2,  4.7],\n",
       "       [ 6. ,  4.3],\n",
       "       [ 6.2,  4.4],\n",
       "       [ 6.1,  4.2],\n",
       "       [ 5.9,  3.8],\n",
       "       [ 5.8,  3.4],\n",
       "       [ 6. ,  4.8],\n",
       "       [ 6.1,  4.5],\n",
       "       [ 6.1,  4.5],\n",
       "       [ 5.6,  3.8],\n",
       "       [ 6.1,  4.5],\n",
       "       [ 5.3,  4.4],\n",
       "       [ 6.2,  6.6],\n",
       "       [ 6.1,  6.2],\n",
       "       [ 5. ,  5.9],\n",
       "       [ 5.5,  5.7],\n",
       "       [ 4.5,  4.8],\n",
       "       [ 5.4,  4.7],\n",
       "       [ 5.5,  5.6],\n",
       "       [ 4.8,  4.1],\n",
       "       [ 6.1,  6. ],\n",
       "       [ 5.6,  5.1],\n",
       "       [ 6.3,  6.6],\n",
       "       [ 5.9,  6.1],\n",
       "       [ 6.1,  6.6],\n",
       "       [ 5.7,  5.9],\n",
       "       [ 5.6,  5. ],\n",
       "       [ 6.1,  6.9],\n",
       "       [ 5.8,  5.6],\n",
       "       [ 5.9,  5.8],\n",
       "       [ 5.3,  5.4],\n",
       "       [ 5.7,  5.6],\n",
       "       [ 5.7,  6. ],\n",
       "       [ 6.1,  5.6],\n",
       "       [ 5.7,  5.3],\n",
       "       [ 5.1,  4.9],\n",
       "       [ 5.2,  5.3],\n",
       "       [ 5.7,  5.8],\n",
       "       [ 5.9,  5.7],\n",
       "       [ 6.1,  6.8],\n",
       "       [ 5.8,  5.6],\n",
       "       [ 4.8,  4.5],\n",
       "       [ 5.5,  5.6],\n",
       "       [ 6.6,  6.9],\n",
       "       [ 6.1,  5.9],\n",
       "       [ 6. ,  6.7]])"
      ]
     },
     "execution_count": 55,
     "metadata": {},
     "output_type": "execute_result"
    }
   ],
   "source": [
    "a[:,:2]"
   ]
  },
  {
   "cell_type": "code",
   "execution_count": 57,
   "metadata": {
    "collapsed": true
   },
   "outputs": [],
   "source": [
    "w = np.array([1,2])"
   ]
  },
  {
   "cell_type": "code",
   "execution_count": 66,
   "metadata": {
    "collapsed": false
   },
   "outputs": [
    {
     "data": {
      "text/plain": [
       "array([1, 1, 1, 1, 1, 1, 1, 1, 1, 1, 1, 1, 1, 1, 1, 1, 1, 1, 1, 1, 1, 1, 1,\n",
       "       1, 1, 1, 1, 1, 1, 1, 1, 1, 1, 1, 1, 1, 1, 1, 1, 1, 1, 1, 1, 1, 1, 1,\n",
       "       1, 1, 1, 1, 1, 1, 1, 1, 1, 1, 1, 1, 1, 1, 1, 1, 1, 1])"
      ]
     },
     "execution_count": 66,
     "metadata": {},
     "output_type": "execute_result"
    }
   ],
   "source": [
    "np.apply_along_axis(f,0,np.dot(np.mat(w), a[:,:2].T))"
   ]
  },
  {
   "cell_type": "code",
   "execution_count": 71,
   "metadata": {
    "collapsed": true
   },
   "outputs": [],
   "source": [
    "t1 = [1,3,4,6,18,10]"
   ]
  },
  {
   "cell_type": "code",
   "execution_count": 72,
   "metadata": {
    "collapsed": false
   },
   "outputs": [
    {
     "data": {
      "text/plain": [
       "array([ 2, 12, -8])"
      ]
     },
     "execution_count": 72,
     "metadata": {},
     "output_type": "execute_result"
    }
   ],
   "source": [
    "np.array(t1[-3:]) - np.array(t1[-4:-1])"
   ]
  },
  {
   "cell_type": "code",
   "execution_count": 99,
   "metadata": {
    "collapsed": false
   },
   "outputs": [
    {
     "data": {
      "text/plain": [
       "0"
      ]
     },
     "execution_count": 99,
     "metadata": {},
     "output_type": "execute_result"
    }
   ],
   "source": [
    "0//10"
   ]
  },
  {
   "cell_type": "code",
   "execution_count": 121,
   "metadata": {
    "collapsed": false
   },
   "outputs": [
    {
     "data": {
      "text/plain": [
       "0.018315638888734179"
      ]
     },
     "execution_count": 121,
     "metadata": {},
     "output_type": "execute_result"
    }
   ],
   "source": [
    "np.exp(-4)\n"
   ]
  },
  {
   "cell_type": "code",
   "execution_count": 326,
   "metadata": {
    "collapsed": false
   },
   "outputs": [
    {
     "data": {
      "text/plain": [
       "57.6"
      ]
     },
     "execution_count": 326,
     "metadata": {},
     "output_type": "execute_result"
    }
   ],
   "source": [
    "len(a)*0.8"
   ]
  },
  {
   "cell_type": "code",
   "execution_count": null,
   "metadata": {
    "collapsed": true
   },
   "outputs": [],
   "source": []
  }
 ],
 "metadata": {
  "kernelspec": {
   "display_name": "Python 2",
   "language": "python",
   "name": "python2"
  },
  "language_info": {
   "codemirror_mode": {
    "name": "ipython",
    "version": 2
   },
   "file_extension": ".py",
   "mimetype": "text/x-python",
   "name": "python",
   "nbconvert_exporter": "python",
   "pygments_lexer": "ipython2",
   "version": "2.7.10"
  }
 },
 "nbformat": 4,
 "nbformat_minor": 0
}
